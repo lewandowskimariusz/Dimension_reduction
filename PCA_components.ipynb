{
 "cells": [
  {
   "cell_type": "code",
   "execution_count": 8,
   "metadata": {},
   "outputs": [],
   "source": [
    "import pandas as pd\n",
    "import numpy as np\n",
    "import matplotlib.pyplot as plt\n",
    "from sklearn.preprocessing import StandardScaler\n",
    "from sklearn.linear_model import Lasso\n",
    "import seaborn as sns\n",
    "from sklearn.decomposition import PCA\n",
    "from sklearn.pipeline import Pipeline\n",
    "from sklearn.ensemble import Random"
   ]
  },
  {
   "cell_type": "code",
   "execution_count": 11,
   "metadata": {},
   "outputs": [
    {
     "name": "stdout",
     "output_type": "stream",
     "text": [
      "PC 1 effects = {'Unnamed: 0': -0.04, 'Age_std': 0.14, 'Total_Bilirubin_std': 0.4, 'Direct_Bilirubin_std': 0.41, 'Alkaline_Phosphotase_std': 0.25, 'Alamine_Aminotransferase_std': 0.27, 'Aspartate_Aminotransferase_std': 0.3, 'Total_Protiens_std': -0.25, 'Albumin_std': -0.41, 'Albumin_and_Globulin_Ratio_std': -0.35, 'Is_male_std': 0.11, 'Liver_disease': 0.25}\n",
      "PC 2 effects = {'Unnamed: 0': 0.09, 'Age_std': -0.29, 'Total_Bilirubin_std': 0.25, 'Direct_Bilirubin_std': 0.26, 'Alkaline_Phosphotase_std': 0.04, 'Alamine_Aminotransferase_std': 0.38, 'Aspartate_Aminotransferase_std': 0.36, 'Total_Protiens_std': 0.45, 'Albumin_std': 0.45, 'Albumin_and_Globulin_Ratio_std': 0.31, 'Is_male_std': 0.01, 'Liver_disease': 0.07}\n"
     ]
    }
   ],
   "source": [
    "pipeline = Pipeline([('scaler',StandardScaler()), ('reducer',PCA(n_components=2))])\n",
    "df = pd.read_csv('indian_liver_patient_preprocessed.csv')\n",
    "# Build the pipeline\n",
    "pipe = Pipeline([('scaler', StandardScaler()),\n",
    "     ('reducer', PCA(n_components=2))])\n",
    "\n",
    "# Fit it to the dataset and extract the component vectors\n",
    "pipe.fit(df)\n",
    "vectors = pipe.steps[1][1].components_.round(2)\n",
    "\n",
    "# Print feature effects\n",
    "print('PC 1 effects = ' + str(dict(zip(df.columns, vectors[0]))))\n",
    "print('PC 2 effects = ' + str(dict(zip(df.columns, vectors[1]))))"
   ]
  }
 ],
 "metadata": {
  "kernelspec": {
   "display_name": "Python 3",
   "language": "python",
   "name": "python3"
  },
  "language_info": {
   "codemirror_mode": {
    "name": "ipython",
    "version": 3
   },
   "file_extension": ".py",
   "mimetype": "text/x-python",
   "name": "python",
   "nbconvert_exporter": "python",
   "pygments_lexer": "ipython3",
   "version": "3.6.5"
  }
 },
 "nbformat": 4,
 "nbformat_minor": 2
}
